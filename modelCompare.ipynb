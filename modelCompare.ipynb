{
 "cells": [
  {
   "cell_type": "code",
   "execution_count": null,
   "id": "0d0b438a-803f-4b3b-b159-e4494412f788",
   "metadata": {},
   "outputs": [],
   "source": [
    "import pandas as pd\n",
    "import numpy as np\n",
    "import seaborn as sns\n",
    "from sklearn.metrics import confusion_matrix\n",
    "import matplotlib.pyplot as plt"
   ]
  },
  {
   "cell_type": "code",
   "execution_count": null,
   "id": "3a767a86-979e-4a4e-a143-d030595c27c2",
   "metadata": {},
   "outputs": [],
   "source": [
    "data= pd.read_csv(\"2010to2017nsWithoutNA.csv\")"
   ]
  },
  {
   "cell_type": "code",
   "execution_count": null,
   "id": "f7038888-ad00-4599-b45c-c2f02b7277ea",
   "metadata": {},
   "outputs": [],
   "source": [
    "from sklearn.model_selection import StratifiedShuffleSplit\n",
    " \n",
    "split = StratifiedShuffleSplit(n_splits = 1,test_size = 0.2,random_state = 42)\n",
    " \n",
    "#根据mnist[\"target\"]来进行分层采样\n",
    "for train_index,test_index in split.split(data,data.iloc[:,-1]):\n",
    "    train_set = data.iloc[train_index,:]\n",
    "    test_set = data.iloc[test_index,:]\n",
    " \n",
    "print(len(train_set),len(test_set))"
   ]
  },
  {
   "cell_type": "code",
   "execution_count": null,
   "id": "111d550d-a646-4d1e-8e2f-cee49dbfe077",
   "metadata": {},
   "outputs": [],
   "source": [
    "#because SDV and TABNet has conflict we need to get this data advance\n",
    "new_data = pd.read_csv('nsGAN.csv')\n",
    "train_set1=train_set.append(new_data)"
   ]
  },
  {
   "cell_type": "code",
   "execution_count": null,
   "id": "ee354dc1-63f2-463f-a83d-dea688e9a4ab",
   "metadata": {},
   "outputs": [],
   "source": [
    "def getPar(model,dist,data,niter):\n",
    "    import numpy as np\n",
    "    import pandas as pd\n",
    "    from sklearn.model_selection import RandomizedSearchCV\n",
    "    x,y=data.shape\n",
    "\n",
    "    clf1 = model\n",
    "\n",
    "    param_dist = dist\n",
    "    grid = RandomizedSearchCV(clf1,param_dist,cv = 3,scoring = \"balanced_accuracy\",n_iter=niter,n_jobs = -1)\n",
    "\n",
    "    #train\n",
    "    grid.fit(data.iloc[:,0:y-1],data.iloc[:,y-1])\n",
    "    #get best parameter\n",
    "    print(grid.best_score_)\n",
    "    return grid.best_params_"
   ]
  },
  {
   "cell_type": "code",
   "execution_count": null,
   "id": "127ca146-0114-4013-bb78-64145677725b",
   "metadata": {
    "tags": []
   },
   "outputs": [],
   "source": [
    "#from xgboost import XGBClassifier\n",
    "from pyod.models.xgbod import XGBOD\n",
    "\n",
    "clf = XGBOD()\n",
    "#clf = XGBClassifier()\n",
    "dic = {\n",
    "        'n_estimators':range(80,2000,4),\n",
    "        'max_depth':range(2,15,1),\n",
    "        'learning_rate':np.linspace(0.01,2,20),\n",
    "        'subsample':np.linspace(0.7,0.9,20),\n",
    "        'colsample_bytree':np.linspace(0.5,0.98,10)\n",
    "        }\n",
    "para9=getPar(clf,dic,test_set,1)\n",
    "\n",
    "my_model = XGBOD(n_estimators=para9['n_estimators'], learning_rate=para9['learning_rate'],\n",
    "                     max_depth=para9['max_depth'],subsample=para9['subsample'],\n",
    "                     colsample_bytree=para9['colsample_bytree'],\n",
    "                     n_jobs=-1)\n",
    "my_model.fit(train_set1.iloc[:,0:8],train_set1.iloc[:,8])\n",
    "\n",
    "pred=my_model.predict(test_set.iloc[:,0:8])"
   ]
  },
  {
   "cell_type": "code",
   "execution_count": null,
   "id": "dbf5db26-13a9-4c13-9e83-db26b6c66c1f",
   "metadata": {},
   "outputs": [],
   "source": [
    "y_tru1=test_set.iloc[:,8]\n",
    "sns.set()\n",
    "f,ax=plt.subplots()\n",
    "C2= confusion_matrix(y_tru1, pred, labels=[0, 1])\n",
    "print(C2) #打印出来看看\n",
    "sns.heatmap(C2,annot=True,ax=ax) #画热力图\n",
    "\n",
    "ax.set_title('confusion matrix') #标题\n",
    "ax.set_xlabel('predict') #x轴\n",
    "ax.set_ylabel('true') #y轴"
   ]
  },
  {
   "cell_type": "markdown",
   "id": "a7830865-9421-4fb5-b4a5-075b6e6e7d03",
   "metadata": {},
   "source": [
    "TABNet"
   ]
  },
  {
   "cell_type": "code",
   "execution_count": null,
   "id": "5704802b-9084-4a8e-84cb-42039502b760",
   "metadata": {},
   "outputs": [],
   "source": [
    "x=train_set1.iloc[:,0:8].to_numpy()\n",
    "y=train_set1.iloc[:,8].to_numpy()\n",
    "a=test_set.iloc[:,0:8].to_numpy()\n",
    "b=test_set.iloc[:,8].to_numpy()\n",
    "c=test_set.iloc[:,0:8].to_numpy()"
   ]
  },
  {
   "cell_type": "code",
   "execution_count": null,
   "id": "10b75e6a-37b8-43e9-a230-6ff425a200e7",
   "metadata": {},
   "outputs": [],
   "source": [
    "#we need to try some combinations of these parameters\n",
    "hyperparameter_search_space = {\n",
    "    \"n_d\": [8, 16, 24, 32, 64, 128], # n_a=n_d\n",
    "    \"n_steps\": [3, 4, 5, 6, 7, 8, 9, 10],\n",
    "    \"gamma\": [1.0, 1.2, 1.5, 2.0],\n",
    "    \"lambda_sparse\": [0, 0.000001, 0.0001, 0.001, 0.01, 0.1],\n",
    "    \"momentum\": [0.6, 0.7, 0.8, 0.9, 0.95, 0.98]\n",
    "}"
   ]
  },
  {
   "cell_type": "code",
   "execution_count": null,
   "id": "5075629c-19ed-4186-80b1-e375eaf6a26b",
   "metadata": {},
   "outputs": [],
   "source": [
    "from pytorch_tabnet.tab_model import TabNetClassifier, TabNetRegressor\n",
    "\n",
    "clf = TabNetClassifier(n_d=8,n_a=8,n_steps=8,gamma=1.5,lambda_sparse=0.001,momentum=0.8)  #TabNetRegressor()\n",
    "clf.fit(\n",
    "  x,y,\n",
    "  eval_set=[(a,b)],eval_metric=['balanced_accuracy'],batch_size=1000\n",
    ")\n",
    "preds = clf.predict(c)"
   ]
  },
  {
   "cell_type": "code",
   "execution_count": null,
   "id": "b8f97b7a-5bca-427b-9445-5f30c077532c",
   "metadata": {},
   "outputs": [],
   "source": [
    "y_tru1=test_set.iloc[:,8]\n",
    "sns.set()\n",
    "f,ax=plt.subplots()\n",
    "C2= confusion_matrix(y_tru1, preds, labels=[0, 1])\n",
    "print(C2) #打印出来看看\n",
    "sns.heatmap(C2,annot=True,ax=ax) #画热力图\n",
    "\n",
    "ax.set_title('confusion matrix') #标题\n",
    "ax.set_xlabel('predict') #x轴\n",
    "ax.set_ylabel('true') #y轴"
   ]
  },
  {
   "cell_type": "code",
   "execution_count": null,
   "id": "7e346ab7-d943-44db-a2a2-f2b1541b7172",
   "metadata": {},
   "outputs": [],
   "source": []
  }
 ],
 "metadata": {
  "kernelspec": {
   "display_name": "Python 3 (ipykernel)",
   "language": "python",
   "name": "python3"
  },
  "language_info": {
   "codemirror_mode": {
    "name": "ipython",
    "version": 3
   },
   "file_extension": ".py",
   "mimetype": "text/x-python",
   "name": "python",
   "nbconvert_exporter": "python",
   "pygments_lexer": "ipython3",
   "version": "3.8.13"
  }
 },
 "nbformat": 4,
 "nbformat_minor": 5
}
